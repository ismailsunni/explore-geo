{
 "cells": [
  {
   "cell_type": "code",
   "execution_count": null,
   "metadata": {},
   "outputs": [],
   "source": [
    "import geopandas as gpd\n",
    "from shapely.geometry import Point\n",
    "import pandas as pd\n",
    "from datetime import datetime, date, time\n",
    "import pyogrio"
   ]
  },
  {
   "cell_type": "markdown",
   "metadata": {},
   "source": [
    "## Datetime"
   ]
  },
  {
   "cell_type": "code",
   "execution_count": null,
   "metadata": {},
   "outputs": [],
   "source": [
    "# Sample data\n",
    "data = {'Latitude': [34.0522, 40.7128, 41.8781],\n",
    "        'Longitude': [-118.2437, -74.0060, -87.6298],\n",
    "        'Date': [datetime.now(), datetime.now(), datetime.now()],\n",
    "        'City': ['Los Angeles', 'New York', 'Chicago']}\n",
    "# Create a GeoDataFrame with Point geometries\n",
    "geometry = [Point(lon, lat) for lon, lat in zip(data['Longitude'], data['Latitude'])]\n",
    "gdf = gpd.GeoDataFrame(data, geometry=geometry)\n",
    "gdf"
   ]
  },
  {
   "cell_type": "code",
   "execution_count": null,
   "metadata": {},
   "outputs": [],
   "source": [
    "# Specify the GeoPackage file path\n",
    "output_gpkg_path = './test.gpkg'\n",
    "\n",
    "# Write the GeoDataFrame to the GeoPackage\n",
    "gdf.to_file(output_gpkg_path, driver='GPKG',  engine=\"pyogrio\")\n",
    "\n",
    "# Confirm the export\n",
    "print(f\"GeoDataFrame has been written to {output_gpkg_path}\")"
   ]
  },
  {
   "cell_type": "code",
   "execution_count": null,
   "metadata": {},
   "outputs": [],
   "source": [
    "frame = gpd.read_file(\n",
    "    output_gpkg_path, engine=\"pyogrio\", fid_as_index=True\n",
    ")\n",
    "print(frame['Date'].dtypes)"
   ]
  },
  {
   "cell_type": "markdown",
   "metadata": {},
   "source": [
    "## Date"
   ]
  },
  {
   "cell_type": "code",
   "execution_count": null,
   "metadata": {},
   "outputs": [],
   "source": [
    "# Sample data\n",
    "data_new = {'Latitude': [34.0522, 40.7128, 41.8781],\n",
    "        'Longitude': [-118.2437, -74.0060, -87.6298],\n",
    "        'Date': [date.today(), date.today(), date.today()],\n",
    "        'City': ['Los Angeles', 'New York', 'Chicago']}\n",
    "# Create a GeoDataFrame with Point geometries\n",
    "geometry = [Point(lon, lat) for lon, lat in zip(data_new['Longitude'], data_new['Latitude'])]\n",
    "gdf_new = gpd.GeoDataFrame(data_new, geometry=geometry)\n",
    "gdf_new"
   ]
  },
  {
   "cell_type": "code",
   "execution_count": null,
   "metadata": {},
   "outputs": [],
   "source": [
    "column_types = gdf_new.dtypes\n",
    "print(column_types)"
   ]
  },
  {
   "cell_type": "code",
   "execution_count": null,
   "metadata": {},
   "outputs": [],
   "source": [
    "# Specify the GeoPackage file path\n",
    "output_gpkg_path_new = './test_new.gpkg'\n",
    "\n",
    "# Write the GeoDataFrame to the GeoPackage\n",
    "gdf_new.to_file(output_gpkg_path_new, driver='GPKG',  engine=\"pyogrio\")\n",
    "\n",
    "# Confirm the export\n",
    "print(f\"GeoDataFrame has been written to {output_gpkg_path_new}\")"
   ]
  },
  {
   "cell_type": "code",
   "execution_count": null,
   "metadata": {},
   "outputs": [],
   "source": [
    "frame_new = gpd.read_file(\n",
    "    output_gpkg_path_new, engine=\"pyogrio\", fid_as_index=True\n",
    ")"
   ]
  },
  {
   "cell_type": "code",
   "execution_count": null,
   "metadata": {},
   "outputs": [],
   "source": [
    "print(frame_new['Date'].dtypes)"
   ]
  },
  {
   "cell_type": "code",
   "execution_count": null,
   "metadata": {},
   "outputs": [],
   "source": [
    "frame_new"
   ]
  },
  {
   "cell_type": "code",
   "execution_count": null,
   "metadata": {},
   "outputs": [],
   "source": [
    "# Sample data\n",
    "data_2 = {'Latitude': [34.0522, 40.7128, 41.8781],\n",
    "        'Longitude': [-118.2437, -74.0060, -87.6298],\n",
    "        'Date': [date.today(), date.today(), date.today()],\n",
    "        'City': ['Los Angeles', 'New York', 'Chicago']}\n",
    "# Create a GeoDataFrame with Point geometries\n",
    "geometry = [Point(lon, lat) for lon, lat in zip(data_2['Longitude'], data_2['Latitude'])]\n",
    "# Convert the 'Date' column to datetime format\n",
    "data_2['Date'] = [datetime.combine(x, time()) for x in data_2['Date']]\n",
    "gdf_2 = gpd.GeoDataFrame(data_2, geometry=geometry)\n",
    "gdf_2"
   ]
  },
  {
   "cell_type": "code",
   "execution_count": null,
   "metadata": {},
   "outputs": [],
   "source": [
    "# Specify the GeoPackage file path\n",
    "output_gpkg_path_2 = './test_2.gpkg'\n",
    "\n",
    "# Write the GeoDataFrame to the GeoPackage\n",
    "gdf_2.to_file(output_gpkg_path_2, driver='GPKG',  engine=\"pyogrio\")\n",
    "\n",
    "# Confirm the export\n",
    "print(f\"GeoDataFrame has been written to {output_gpkg_path_2}\")\n"
   ]
  },
  {
   "cell_type": "code",
   "execution_count": null,
   "metadata": {},
   "outputs": [],
   "source": [
    "frame_2 = gpd.read_file(\n",
    "    output_gpkg_path_2, engine=\"pyogrio\", fid_as_index=True\n",
    ")\n",
    "\n",
    "print(frame_2['Date'].dtypes)"
   ]
  }
 ],
 "metadata": {
  "kernelspec": {
   "display_name": "explore-geo",
   "language": "python",
   "name": "explore-geo"
  },
  "language_info": {
   "codemirror_mode": {
    "name": "ipython",
    "version": 3
   },
   "file_extension": ".py",
   "mimetype": "text/x-python",
   "name": "python",
   "nbconvert_exporter": "python",
   "pygments_lexer": "ipython3",
   "version": "3.10.12"
  }
 },
 "nbformat": 4,
 "nbformat_minor": 2
}
