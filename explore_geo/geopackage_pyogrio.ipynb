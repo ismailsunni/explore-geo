{
 "cells": [
  {
   "cell_type": "code",
   "execution_count": 1,
   "metadata": {},
   "outputs": [],
   "source": [
    "import geopandas as gpd\n",
    "from shapely.geometry import Point\n",
    "import pandas as pd\n",
    "from datetime import datetime, date\n",
    "import pyogrio"
   ]
  },
  {
   "cell_type": "code",
   "execution_count": 2,
   "metadata": {},
   "outputs": [],
   "source": [
    "# Sample data\n",
    "data = {'Latitude': [34.0522, 40.7128, 41.8781],\n",
    "        'Longitude': [-118.2437, -74.0060, -87.6298],\n",
    "        'Date': ['2022-01-01', '2022-01-02', '2022-01-03'],\n",
    "        'City': ['Los Angeles', 'New York', 'Chicago']}"
   ]
  },
  {
   "cell_type": "code",
   "execution_count": 3,
   "metadata": {},
   "outputs": [],
   "source": [
    "# Convert the 'Date' column to datetime format\n",
    "data['Date'] = pd.to_datetime(data['Date'])"
   ]
  },
  {
   "cell_type": "code",
   "execution_count": 4,
   "metadata": {},
   "outputs": [],
   "source": [
    "# Create a GeoDataFrame with Point geometries\n",
    "geometry = [Point(lon, lat) for lon, lat in zip(data['Longitude'], data['Latitude'])]\n",
    "gdf = gpd.GeoDataFrame(data, geometry=geometry)"
   ]
  },
  {
   "cell_type": "code",
   "execution_count": 5,
   "metadata": {},
   "outputs": [
    {
     "name": "stdout",
     "output_type": "stream",
     "text": [
      "   Latitude  Longitude       Date         City                     geometry\n",
      "0   34.0522  -118.2437 2022-01-01  Los Angeles  POINT (-118.24370 34.05220)\n",
      "1   40.7128   -74.0060 2022-01-02     New York   POINT (-74.00600 40.71280)\n",
      "2   41.8781   -87.6298 2022-01-03      Chicago   POINT (-87.62980 41.87810)\n"
     ]
    }
   ],
   "source": [
    "# Print the GeoDataFrame\n",
    "print(gdf)"
   ]
  },
  {
   "cell_type": "code",
   "execution_count": 6,
   "metadata": {},
   "outputs": [
    {
     "name": "stdout",
     "output_type": "stream",
     "text": [
      "GeoDataFrame has been written to ./test.gpkg\n"
     ]
    }
   ],
   "source": [
    "# Specify the GeoPackage file path\n",
    "output_gpkg_path = './test.gpkg'\n",
    "\n",
    "# Write the GeoDataFrame to the GeoPackage\n",
    "gdf.to_file(output_gpkg_path, driver='GPKG')\n",
    "\n",
    "# Confirm the export\n",
    "print(f\"GeoDataFrame has been written to {output_gpkg_path}\")"
   ]
  },
  {
   "cell_type": "code",
   "execution_count": 7,
   "metadata": {},
   "outputs": [],
   "source": [
    "frame = gpd.read_file(\n",
    "    output_gpkg_path, engine=\"pyogrio\", fid_as_index=True\n",
    ")"
   ]
  },
  {
   "cell_type": "code",
   "execution_count": 8,
   "metadata": {},
   "outputs": [
    {
     "name": "stdout",
     "output_type": "stream",
     "text": [
      "Latitude            float64\n",
      "Longitude           float64\n",
      "Date         datetime64[ms]\n",
      "City                 object\n",
      "geometry           geometry\n",
      "dtype: object\n"
     ]
    }
   ],
   "source": [
    "column_types = frame.dtypes\n",
    "print(column_types)"
   ]
  },
  {
   "cell_type": "code",
   "execution_count": 9,
   "metadata": {},
   "outputs": [],
   "source": [
    "# Sample data\n",
    "data_new = {'Latitude': [34.0522, 40.7128, 41.8781],\n",
    "        'Longitude': [-118.2437, -74.0060, -87.6298],\n",
    "        'Date': [date.today(), date.today(), date.today()],\n",
    "        'City': ['Los Angeles', 'New York', 'Chicago']}\n",
    "# Create a GeoDataFrame with Point geometries\n",
    "geometry = [Point(lon, lat) for lon, lat in zip(data['Longitude'], data['Latitude'])]\n",
    "gdf_new = gpd.GeoDataFrame(data_new, geometry=geometry)"
   ]
  },
  {
   "cell_type": "code",
   "execution_count": 10,
   "metadata": {},
   "outputs": [
    {
     "data": {
      "text/html": [
       "<div>\n",
       "<style scoped>\n",
       "    .dataframe tbody tr th:only-of-type {\n",
       "        vertical-align: middle;\n",
       "    }\n",
       "\n",
       "    .dataframe tbody tr th {\n",
       "        vertical-align: top;\n",
       "    }\n",
       "\n",
       "    .dataframe thead th {\n",
       "        text-align: right;\n",
       "    }\n",
       "</style>\n",
       "<table border=\"1\" class=\"dataframe\">\n",
       "  <thead>\n",
       "    <tr style=\"text-align: right;\">\n",
       "      <th></th>\n",
       "      <th>Latitude</th>\n",
       "      <th>Longitude</th>\n",
       "      <th>Date</th>\n",
       "      <th>City</th>\n",
       "      <th>geometry</th>\n",
       "    </tr>\n",
       "  </thead>\n",
       "  <tbody>\n",
       "    <tr>\n",
       "      <th>0</th>\n",
       "      <td>34.0522</td>\n",
       "      <td>-118.2437</td>\n",
       "      <td>2024-01-16</td>\n",
       "      <td>Los Angeles</td>\n",
       "      <td>POINT (-118.24370 34.05220)</td>\n",
       "    </tr>\n",
       "    <tr>\n",
       "      <th>1</th>\n",
       "      <td>40.7128</td>\n",
       "      <td>-74.0060</td>\n",
       "      <td>2024-01-16</td>\n",
       "      <td>New York</td>\n",
       "      <td>POINT (-74.00600 40.71280)</td>\n",
       "    </tr>\n",
       "    <tr>\n",
       "      <th>2</th>\n",
       "      <td>41.8781</td>\n",
       "      <td>-87.6298</td>\n",
       "      <td>2024-01-16</td>\n",
       "      <td>Chicago</td>\n",
       "      <td>POINT (-87.62980 41.87810)</td>\n",
       "    </tr>\n",
       "  </tbody>\n",
       "</table>\n",
       "</div>"
      ],
      "text/plain": [
       "   Latitude  Longitude        Date         City                     geometry\n",
       "0   34.0522  -118.2437  2024-01-16  Los Angeles  POINT (-118.24370 34.05220)\n",
       "1   40.7128   -74.0060  2024-01-16     New York   POINT (-74.00600 40.71280)\n",
       "2   41.8781   -87.6298  2024-01-16      Chicago   POINT (-87.62980 41.87810)"
      ]
     },
     "execution_count": 10,
     "metadata": {},
     "output_type": "execute_result"
    }
   ],
   "source": [
    "gdf_new"
   ]
  },
  {
   "cell_type": "code",
   "execution_count": 11,
   "metadata": {},
   "outputs": [
    {
     "name": "stdout",
     "output_type": "stream",
     "text": [
      "Latitude      float64\n",
      "Longitude     float64\n",
      "Date           object\n",
      "City           object\n",
      "geometry     geometry\n",
      "dtype: object\n"
     ]
    }
   ],
   "source": [
    "column_types = gdf_new.dtypes\n",
    "print(column_types)"
   ]
  },
  {
   "cell_type": "code",
   "execution_count": 13,
   "metadata": {},
   "outputs": [
    {
     "name": "stdout",
     "output_type": "stream",
     "text": [
      "GeoDataFrame has been written to ./test_new.gpkg\n"
     ]
    },
    {
     "name": "stderr",
     "output_type": "stream",
     "text": [
      "/home/ismailsunni/.cache/pypoetry/virtualenvs/explore-geo-rPGRe74f-py3.10/lib/python3.10/site-packages/pyogrio/raw.py:505: UserWarning: 'crs' was not provided.  The output dataset will not have projection information defined and may not be usable in other systems.\n",
      "  warnings.warn(\n"
     ]
    }
   ],
   "source": [
    "# Specify the GeoPackage file path\n",
    "output_gpkg_path_new = './test_new.gpkg'\n",
    "\n",
    "# Write the GeoDataFrame to the GeoPackage\n",
    "gdf_new.to_file(output_gpkg_path_new, driver='GPKG',  engine=\"pyogrio\")\n",
    "\n",
    "# Confirm the export\n",
    "print(f\"GeoDataFrame has been written to {output_gpkg_path_new}\")"
   ]
  },
  {
   "cell_type": "code",
   "execution_count": 14,
   "metadata": {},
   "outputs": [],
   "source": [
    "frame_new = gpd.read_file(\n",
    "    output_gpkg_path_new, engine=\"pyogrio\", fid_as_index=True\n",
    ")"
   ]
  },
  {
   "cell_type": "code",
   "execution_count": 15,
   "metadata": {},
   "outputs": [
    {
     "name": "stdout",
     "output_type": "stream",
     "text": [
      "Latitude      float64\n",
      "Longitude     float64\n",
      "Date           object\n",
      "City           object\n",
      "geometry     geometry\n",
      "dtype: object\n"
     ]
    }
   ],
   "source": [
    "column_types = frame_new.dtypes\n",
    "print(column_types)"
   ]
  },
  {
   "cell_type": "code",
   "execution_count": 16,
   "metadata": {},
   "outputs": [
    {
     "data": {
      "text/html": [
       "<div>\n",
       "<style scoped>\n",
       "    .dataframe tbody tr th:only-of-type {\n",
       "        vertical-align: middle;\n",
       "    }\n",
       "\n",
       "    .dataframe tbody tr th {\n",
       "        vertical-align: top;\n",
       "    }\n",
       "\n",
       "    .dataframe thead th {\n",
       "        text-align: right;\n",
       "    }\n",
       "</style>\n",
       "<table border=\"1\" class=\"dataframe\">\n",
       "  <thead>\n",
       "    <tr style=\"text-align: right;\">\n",
       "      <th></th>\n",
       "      <th>Latitude</th>\n",
       "      <th>Longitude</th>\n",
       "      <th>Date</th>\n",
       "      <th>City</th>\n",
       "      <th>geometry</th>\n",
       "    </tr>\n",
       "    <tr>\n",
       "      <th>fid</th>\n",
       "      <th></th>\n",
       "      <th></th>\n",
       "      <th></th>\n",
       "      <th></th>\n",
       "      <th></th>\n",
       "    </tr>\n",
       "  </thead>\n",
       "  <tbody>\n",
       "    <tr>\n",
       "      <th>1</th>\n",
       "      <td>34.0522</td>\n",
       "      <td>-118.2437</td>\n",
       "      <td>2024-01-16</td>\n",
       "      <td>Los Angeles</td>\n",
       "      <td>POINT (-118.24370 34.05220)</td>\n",
       "    </tr>\n",
       "    <tr>\n",
       "      <th>2</th>\n",
       "      <td>40.7128</td>\n",
       "      <td>-74.0060</td>\n",
       "      <td>2024-01-16</td>\n",
       "      <td>New York</td>\n",
       "      <td>POINT (-74.00600 40.71280)</td>\n",
       "    </tr>\n",
       "    <tr>\n",
       "      <th>3</th>\n",
       "      <td>41.8781</td>\n",
       "      <td>-87.6298</td>\n",
       "      <td>2024-01-16</td>\n",
       "      <td>Chicago</td>\n",
       "      <td>POINT (-87.62980 41.87810)</td>\n",
       "    </tr>\n",
       "  </tbody>\n",
       "</table>\n",
       "</div>"
      ],
      "text/plain": [
       "     Latitude  Longitude        Date         City                     geometry\n",
       "fid                                                                           \n",
       "1     34.0522  -118.2437  2024-01-16  Los Angeles  POINT (-118.24370 34.05220)\n",
       "2     40.7128   -74.0060  2024-01-16     New York   POINT (-74.00600 40.71280)\n",
       "3     41.8781   -87.6298  2024-01-16      Chicago   POINT (-87.62980 41.87810)"
      ]
     },
     "execution_count": 16,
     "metadata": {},
     "output_type": "execute_result"
    }
   ],
   "source": [
    "frame_new"
   ]
  }
 ],
 "metadata": {
  "kernelspec": {
   "display_name": "explore-geo",
   "language": "python",
   "name": "explore-geo"
  },
  "language_info": {
   "codemirror_mode": {
    "name": "ipython",
    "version": 3
   },
   "file_extension": ".py",
   "mimetype": "text/x-python",
   "name": "python",
   "nbconvert_exporter": "python",
   "pygments_lexer": "ipython3",
   "version": "3.10.12"
  }
 },
 "nbformat": 4,
 "nbformat_minor": 2
}
